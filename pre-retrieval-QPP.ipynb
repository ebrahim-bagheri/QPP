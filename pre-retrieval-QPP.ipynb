{
 "cells": [
  {
   "cell_type": "markdown",
   "metadata": {},
   "source": [
    "# MRP : Implementing Pre-retrival Methods"
   ]
  },
  {
   "cell_type": "code",
   "execution_count": 1,
   "metadata": {
    "collapsed": true
   },
   "outputs": [],
   "source": [
    "#Importing Libraries \n",
    "import numpy as np\n",
    "import os\n",
    "from random import shuffle\n",
    "import re\n",
    "import urllib.request\n",
    "import zipfile\n",
    "import lxml.etree\n",
    "#import wordcloud\n",
    "import warnings\n",
    "warnings.filterwarnings(\"ignore\")\n",
    "import pandas as pd \n",
    "import math\n",
    "import numpy\n",
    "import string\n",
    "from  nltk.tokenize  import word_tokenize\n",
    "import datetime"
   ]
  },
  {
   "cell_type": "markdown",
   "metadata": {},
   "source": [
    "### Reading TREC's ROBUST data collection "
   ]
  },
  {
   "cell_type": "code",
   "execution_count": 2,
   "metadata": {
    "collapsed": true
   },
   "outputs": [],
   "source": [
    "# Set the Root file path - Path need to be changed\n",
    "RootFilePath=\"C:/NareshPersonal/Python/MRP/rb04/\"\n",
    "\n",
    "#1.Loading all the collection documents \n",
    "#'test' is collections document folder name (might need to be changed) inside RootFilePath \n",
    "data_folder = os.path.join(RootFilePath, 'rb04')  \n",
    "\n",
    "#2.Loading all the Queries \n",
    "df2=pd.read_csv(RootFilePath+\"rb04-queries.txt\",delimiter=\":\",names=['QueryNo','Query'])\n",
    "\n",
    "#3.Loading MAP results for comparision later \n",
    "dfmap=pd.read_csv(RootFilePath+\"qmaporder.txt\",delimiter=' ',names=['QueryNo','MAP'])"
   ]
  },
  {
   "cell_type": "markdown",
   "metadata": {},
   "source": [
    "### Prep Work for intermediate Calculation and document collection statistics"
   ]
  },
  {
   "cell_type": "code",
   "execution_count": 4,
   "metadata": {},
   "outputs": [
    {
     "name": "stdout",
     "output_type": "stream",
     "text": [
      "Start Time:  2018-07-22 16:52:34.438368\n",
      "Number of docs: 31314\n",
      "Total number of tokens: 34887440\n",
      "Total number of tokens lower & no punct: 28564676\n",
      "End Time:  2018-07-22 17:00:57.055368\n"
     ]
    }
   ],
   "source": [
    "print(\"Start Time: \", datetime.datetime.now())\n",
    "all_recipe_files = [os.path.join(data_folder, fname)\n",
    "                    for fname in os.listdir(data_folder)]\n",
    "documents = {}\n",
    "doc_tokens_lower2={}\n",
    "for recipe_fname in all_recipe_files:\n",
    "    bname = os.path.basename(recipe_fname)\n",
    "    recipe_number = os.path.splitext(bname)[0]\n",
    "    with open(recipe_fname, 'r') as f:\n",
    "        documents[recipe_number] = f.read()\n",
    "        doc_tokens = [t for t in word_tokenize(documents[recipe_number].lower())]\n",
    "        doc_tokens_lower2[recipe_number] = [t.lower() for t in doc_tokens if t not in string.punctuation]\n",
    "        \n",
    "#Getting entire Corpus        \n",
    "corpus_all_in_one = ' '.join([doc for doc in documents.values()])\n",
    "\n",
    "#Printing Number of Docs, total Tokens and total Characters\n",
    "print(\"Number of docs: {}\".format(len(documents)))\n",
    "\n",
    "try:  # py3\n",
    "    all_tokens = [t for t in word_tokenize(corpus_all_in_one)]\n",
    "except UnicodeDecodeError: \n",
    "    all_tokens = [t for t in word_tokenize(corpus_all_in_one.decode('utf-8'))]\n",
    "\n",
    "print(\"Total number of tokens: {}\".format(len(all_tokens)))\n",
    "\n",
    "#print(\"Corpus size (char): {}\".format(len(corpus_all_in_one)))\n",
    "\n",
    "all_recipe_files_name = [fname for fname in os.listdir(data_folder)]\n",
    "\n",
    "#Generating term frequency for entire collection for the purpose of calculating tf(t,D)\n",
    "#from nltk.stem import PorterStemmer\n",
    "#from  collections  import Counter\n",
    "#stemmer = PorterStemmer()\n",
    "all_tokens_lower = [t.lower() for t in all_tokens\n",
    "                   if t not in string.punctuation]\n",
    "#total_term_frequency_normalised = Counter(all_tokens_lower)\n",
    "\n",
    "print(\"Total number of tokens lower & no punct: {}\".format(len(all_tokens_lower)))\n",
    "print(\"End Time: \", datetime.datetime.now())"
   ]
  },
  {
   "cell_type": "code",
   "execution_count": null,
   "metadata": {
    "collapsed": true
   },
   "outputs": [],
   "source": [
    "#for fname in all_recipe_files_name:\n",
    "#    doc_tokens = [t for t in word_tokenize(documents[fname].lower())]\n",
    "#    doc_tokens_lower2[fname] = [t.lower() for t in doc_tokens if t not in string.punctuation]"
   ]
  },
  {
   "cell_type": "code",
   "execution_count": 5,
   "metadata": {},
   "outputs": [
    {
     "name": "stdout",
     "output_type": "stream",
     "text": [
      "Start Time:  2018-07-22 17:01:14.773368\n",
      "End Time:  2018-07-22 17:01:14.905368\n"
     ]
    }
   ],
   "source": [
    "print(\"Start Time: \", datetime.datetime.now())\n",
    "query_terms_doc_count={}\n",
    "query_terms_total_count={}\n",
    "for i in range(0,df2.index.size):\n",
    "    for t in [t.lower() for t in word_tokenize(df2['Query'].iloc[i])if t not in string.punctuation]:\n",
    "        query_terms_doc_count[t]=0\n",
    "        query_terms_total_count[t]=0\n",
    "print(\"End Time: \", datetime.datetime.now())"
   ]
  },
  {
   "cell_type": "code",
   "execution_count": 6,
   "metadata": {},
   "outputs": [
    {
     "name": "stdout",
     "output_type": "stream",
     "text": [
      "Start Time:  2018-07-22 17:01:19.851368\n",
      "End Time:  2018-07-22 17:03:39.137368\n"
     ]
    }
   ],
   "source": [
    "print(\"Start Time: \", datetime.datetime.now())\n",
    "for k,v in doc_tokens_lower2.items():\n",
    "    for t in v:\n",
    "        if t in query_terms_total_count.keys():\n",
    "            query_terms_total_count[t]=query_terms_total_count[t]+1\n",
    "    for t2 in query_terms_doc_count:\n",
    "        if t2 in v:\n",
    "            query_terms_doc_count[t2]=query_terms_doc_count[t2]+1\n",
    "print(\"End Time: \", datetime.datetime.now())"
   ]
  },
  {
   "cell_type": "markdown",
   "metadata": {},
   "source": [
    "### Main code for the calculation of avgIDF, SCS(Q), maxSCQ, sumSCQ and avgSCQ metrics for each query"
   ]
  },
  {
   "cell_type": "code",
   "execution_count": 7,
   "metadata": {},
   "outputs": [
    {
     "name": "stdout",
     "output_type": "stream",
     "text": [
      "Start Time:  2018-07-22 17:16:51.519368\n",
      "End Time:  2018-07-22 17:16:51.839368\n"
     ]
    }
   ],
   "source": [
    "#Calculating avgIDF, SCS(Q), maxSCQ, maxVAR metrics for each query\n",
    "print(\"Start Time: \", datetime.datetime.now())\n",
    "davgidf={}\n",
    "dscsq={}\n",
    "dmaxscqt={}\n",
    "dsumscqt={}\n",
    "davgscqt={}\n",
    "for i in range(0,df2.index.size):\n",
    "    query_tokens = [t.lower() for t in word_tokenize(df2['Query'].iloc[i])\n",
    "                   if t not in string.punctuation]\n",
    "    avgidf=0\n",
    "    scsq=0\n",
    "    maxscqt=0\n",
    "    sumscqt=0\n",
    "    avgscqt=0\n",
    "    scqt=0\n",
    "    for token in query_tokens:\n",
    "        if query_terms_doc_count[token]>0:\n",
    "            idft=math.log((len(documents)/query_terms_doc_count[token]),2) #Calculating idf(t) using log base 2\n",
    "            avgidf=avgidf+idft\n",
    "            scsq=scsq+math.log((len(all_tokens_lower)/query_terms_total_count[token]),2)\n",
    "            scqt=(1+math.log(query_terms_total_count[token],2))*idft\n",
    "            sumscqt=sumscqt+scqt\n",
    "            if scqt>maxscqt:\n",
    "                maxscqt=scqt\n",
    "    davgidf[df2['QueryNo'].iloc[i]]=avgidf/len(query_tokens)\n",
    "    dscsq[df2['QueryNo'].iloc[i]]=math.log((1/len(query_tokens)),2)+scsq/len(query_tokens)\n",
    "    dmaxscqt[df2['QueryNo'].iloc[i]]=maxscqt\n",
    "    dsumscqt[df2['QueryNo'].iloc[i]]=sumscqt\n",
    "    davgscqt[df2['QueryNo'].iloc[i]]=sumscqt/len(query_tokens)\n",
    "print(\"End Time: \", datetime.datetime.now())"
   ]
  },
  {
   "cell_type": "markdown",
   "metadata": {},
   "source": [
    "### Code for calculating avgVAR and maxVAR"
   ]
  },
  {
   "cell_type": "code",
   "execution_count": 8,
   "metadata": {},
   "outputs": [
    {
     "name": "stdout",
     "output_type": "stream",
     "text": [
      "Start Time:  2018-07-22 17:16:59.096368\n",
      "End Time:  2018-07-22 17:17:19.086368\n"
     ]
    }
   ],
   "source": [
    "print(\"Start Time: \", datetime.datetime.now())\n",
    "from  collections  import Counter\n",
    "doc_term_frequency_normalised2 = {}\n",
    "for fname in all_recipe_files_name:\n",
    "    doc_term_frequency_normalised2[fname] = Counter(doc_tokens_lower2[fname])\n",
    "print(\"End Time: \", datetime.datetime.now())"
   ]
  },
  {
   "cell_type": "code",
   "execution_count": 9,
   "metadata": {},
   "outputs": [
    {
     "name": "stdout",
     "output_type": "stream",
     "text": [
      "Start Time:  2018-07-22 17:17:25.282368\n",
      "End Time:  2018-07-22 17:27:32.125160\n"
     ]
    }
   ],
   "source": [
    "#Calculating weights for each term w(t,d) --Approx Run time 10 min.\n",
    "print(\"Start Time: \", datetime.datetime.now())\n",
    "wtd={}\n",
    "for k, v in doc_term_frequency_normalised2.items():\n",
    "    for i in range(0,df2.index.size):\n",
    "        query_tokens = [t.lower() for t in word_tokenize(df2['Query'].iloc[i])\n",
    "                   if t not in string.punctuation]\n",
    "        for token in query_tokens:\n",
    "            if v.get(token)!=None:\n",
    "                wtd[k+\"/\"+token]=(math.log2(1+v.get(token))*math.log((len(documents)/query_terms_doc_count[token]),2))/len(doc_tokens_lower2[k])\n",
    "print(\"End Time: \", datetime.datetime.now())           "
   ]
  },
  {
   "cell_type": "code",
   "execution_count": 10,
   "metadata": {},
   "outputs": [
    {
     "name": "stdout",
     "output_type": "stream",
     "text": [
      "Start Time:  2018-07-22 17:27:52.595207\n",
      "End Time:  2018-07-22 17:32:39.744919\n"
     ]
    }
   ],
   "source": [
    "#main code to calculate maxVAR and avgVAR\n",
    "print(\"Start Time: \", datetime.datetime.now())\n",
    "dmaxvar={}\n",
    "davgvar={}\n",
    "for i in range(0,df2.index.size):\n",
    "    query_tokens = [t.lower() for t in word_tokenize(df2['Query'].iloc[i]) if t not in string.punctuation]\n",
    "    maxvar=0\n",
    "    sumvar=0\n",
    "    for token in query_tokens:\n",
    "        dvar={}\n",
    "        for key in wtd:\n",
    "            if re.fullmatch('.*'+'/'+token, key):\n",
    "                dvar[str(df2['QueryNo'].iloc[i])+'/'+key]=wtd[key]\n",
    "        #print(dvar)\n",
    "        if len(dvar)>0:\n",
    "            sumvar=sumvar+np.var(np.array(list(dvar.values())))\n",
    "            if np.var(np.array(list(dvar.values())))>maxvar:\n",
    "                maxvar=np.var(np.array(list(dvar.values())))\n",
    "    dmaxvar[df2['QueryNo'].iloc[i]]=maxvar\n",
    "    davgvar[df2['QueryNo'].iloc[i]]=sumvar/len(query_tokens)\n",
    "print(\"End Time: \", datetime.datetime.now())                "
   ]
  },
  {
   "cell_type": "markdown",
   "metadata": {},
   "source": [
    "### Code for calculating avgPMI and maxPMI"
   ]
  },
  {
   "cell_type": "code",
   "execution_count": 11,
   "metadata": {
    "collapsed": true
   },
   "outputs": [],
   "source": [
    "query_terms_doc_count_t1t2={}\n",
    "for i in range(0,df2.index.size):\n",
    "    query_tokens = [t.lower() for t in word_tokenize(df2['Query'].iloc[i]) if t not in string.punctuation]\n",
    "    for j in range(0,len(query_tokens)):\n",
    "        for k in range(j+1,len(query_tokens)):\n",
    "            query_terms_doc_count_t1t2[query_tokens[j],query_tokens[k]]=0                   "
   ]
  },
  {
   "cell_type": "code",
   "execution_count": 12,
   "metadata": {},
   "outputs": [
    {
     "name": "stdout",
     "output_type": "stream",
     "text": [
      "Start Time:  2018-07-22 17:32:43.999344\n",
      "End Time:  2018-07-22 17:35:16.088552\n"
     ]
    }
   ],
   "source": [
    "print(\"Start Time: \", datetime.datetime.now())\n",
    "for k,v in doc_tokens_lower2.items():\n",
    "    for k1,k2 in query_terms_doc_count_t1t2.keys():\n",
    "        if k1 in v and k2 in v:\n",
    "            query_terms_doc_count_t1t2[k1,k2]=query_terms_doc_count_t1t2[k1,k2]+1\n",
    "print(\"End Time: \", datetime.datetime.now())"
   ]
  },
  {
   "cell_type": "code",
   "execution_count": 13,
   "metadata": {},
   "outputs": [
    {
     "name": "stdout",
     "output_type": "stream",
     "text": [
      "Start Time:  2018-07-22 17:36:04.226365\n",
      "End Time:  2018-07-22 17:36:04.278370\n"
     ]
    }
   ],
   "source": [
    "## Main Code to calculate TERM RELATEDNESS metrics i.e. avgPMI and maxPMI, \n",
    "print(\"Start Time: \", datetime.datetime.now())\n",
    "davgpmi = {}\n",
    "dmaxpmi = {}\n",
    "#Program to Calculate PMI(t1,t2)\n",
    "D=len(documents) #Total number documents |D|\n",
    "#D=len(all_tokens_lower) #Total number of terms in entire document colleciton after removing punctuation etc.\n",
    "\n",
    "for i in range(0,df2.index.size):\n",
    "    query_tokens = [t.lower() for t in word_tokenize(df2['Query'].iloc[i]) if t not in string.punctuation]\n",
    "    #print(query_tokens)\n",
    "    n=0\n",
    "    avgpmi=0\n",
    "    maxpmi=0\n",
    "    for j in range(0,len(query_tokens)):\n",
    "        if len(query_tokens)==1:\n",
    "            avgpmi=math.log2(1)\n",
    "            n=1        \n",
    "        else:\n",
    "            for k in range(j+1,len(query_tokens)):\n",
    "                n=n+1\n",
    "                if query_terms_doc_count_t1t2[query_tokens[j],query_tokens[k]] !=0:\n",
    "                    pmi=(query_terms_doc_count_t1t2[query_tokens[j],query_tokens[k]]*D)/(query_terms_doc_count[query_tokens[j]]*query_terms_doc_count[query_tokens[k]])\n",
    "                if pmi!=0:\n",
    "                    avgpmi=avgpmi+math.log2(pmi)\n",
    "                    if math.log2(pmi)>maxpmi:\n",
    "                        maxpmi=math.log2(pmi)\n",
    "    davgpmi[df2['QueryNo'].iloc[i]]=avgpmi/n\n",
    "    dmaxpmi[df2['QueryNo'].iloc[i]]=maxpmi\n",
    "print(\"End Time: \", datetime.datetime.now())"
   ]
  },
  {
   "cell_type": "code",
   "execution_count": 14,
   "metadata": {
    "collapsed": true
   },
   "outputs": [],
   "source": [
    "df2.insert(len(df2.columns),'avgidf',99)\n",
    "df2['avgidf']=df2['QueryNo'].map(davgidf)\n",
    "df2.insert(len(df2.columns),'scsq',99)\n",
    "df2['scsq']=df2['QueryNo'].map(dscsq)\n",
    "df2.insert(len(df2.columns),'maxscqt',99)\n",
    "df2['maxscqt']=df2['QueryNo'].map(dmaxscqt)\n",
    "df2.insert(len(df2.columns),'sumscqt',99)\n",
    "df2['sumscqt']=df2['QueryNo'].map(dsumscqt)\n",
    "df2.insert(len(df2.columns),'avgscqt',99)\n",
    "df2['avgscqt']=df2['QueryNo'].map(davgscqt)\n",
    "df2.insert(len(df2.columns),'maxvar',99)\n",
    "df2['maxvar']=df2['QueryNo'].map(dmaxvar)\n",
    "df2.insert(len(df2.columns),'avgvar',99)\n",
    "df2['avgvar']=df2['QueryNo'].map(davgvar)\n",
    "df2.insert(len(df2.columns),'avgpmi',99)\n",
    "df2['avgpmi']=df2['QueryNo'].map(davgpmi)\n",
    "df2.insert(len(df2.columns),'maxpmi',99)\n",
    "df2['maxpmi']=df2['QueryNo'].map(dmaxpmi)"
   ]
  },
  {
   "cell_type": "code",
   "execution_count": 15,
   "metadata": {},
   "outputs": [
    {
     "data": {
      "text/html": [
       "<div>\n",
       "<style>\n",
       "    .dataframe thead tr:only-child th {\n",
       "        text-align: right;\n",
       "    }\n",
       "\n",
       "    .dataframe thead th {\n",
       "        text-align: left;\n",
       "    }\n",
       "\n",
       "    .dataframe tbody tr th {\n",
       "        vertical-align: top;\n",
       "    }\n",
       "</style>\n",
       "<table border=\"1\" class=\"dataframe\">\n",
       "  <thead>\n",
       "    <tr style=\"text-align: right;\">\n",
       "      <th></th>\n",
       "      <th>QueryNo</th>\n",
       "      <th>Query</th>\n",
       "      <th>avgidf</th>\n",
       "      <th>scsq</th>\n",
       "      <th>maxscqt</th>\n",
       "      <th>sumscqt</th>\n",
       "      <th>avgscqt</th>\n",
       "      <th>maxvar</th>\n",
       "      <th>avgvar</th>\n",
       "      <th>avgpmi</th>\n",
       "      <th>maxpmi</th>\n",
       "      <th>MAP</th>\n",
       "    </tr>\n",
       "  </thead>\n",
       "  <tbody>\n",
       "    <tr>\n",
       "      <th>0</th>\n",
       "      <td>301</td>\n",
       "      <td>International Organized Crime</td>\n",
       "      <td>3.865480</td>\n",
       "      <td>11.012275</td>\n",
       "      <td>58.712459</td>\n",
       "      <td>148.612201</td>\n",
       "      <td>49.537400</td>\n",
       "      <td>0.000095</td>\n",
       "      <td>0.000068</td>\n",
       "      <td>1.257175</td>\n",
       "      <td>2.597584</td>\n",
       "      <td>0.0407</td>\n",
       "    </tr>\n",
       "    <tr>\n",
       "      <th>1</th>\n",
       "      <td>302</td>\n",
       "      <td>Poliomyelitis and Post-Polio</td>\n",
       "      <td>7.789520</td>\n",
       "      <td>14.367864</td>\n",
       "      <td>60.987195</td>\n",
       "      <td>104.422481</td>\n",
       "      <td>34.807494</td>\n",
       "      <td>0.000684</td>\n",
       "      <td>0.000245</td>\n",
       "      <td>0.023081</td>\n",
       "      <td>0.023081</td>\n",
       "      <td>0.5243</td>\n",
       "    </tr>\n",
       "    <tr>\n",
       "      <th>2</th>\n",
       "      <td>303</td>\n",
       "      <td>Hubble Telescope Achievements</td>\n",
       "      <td>7.291412</td>\n",
       "      <td>14.377756</td>\n",
       "      <td>76.548731</td>\n",
       "      <td>212.331965</td>\n",
       "      <td>70.777322</td>\n",
       "      <td>0.004141</td>\n",
       "      <td>0.002545</td>\n",
       "      <td>3.345009</td>\n",
       "      <td>7.779006</td>\n",
       "      <td>0.3654</td>\n",
       "    </tr>\n",
       "    <tr>\n",
       "      <th>3</th>\n",
       "      <td>304</td>\n",
       "      <td>Endangered Species (Mammals)</td>\n",
       "      <td>5.753165</td>\n",
       "      <td>12.468759</td>\n",
       "      <td>71.097211</td>\n",
       "      <td>199.034946</td>\n",
       "      <td>66.344982</td>\n",
       "      <td>0.000171</td>\n",
       "      <td>0.000114</td>\n",
       "      <td>4.416756</td>\n",
       "      <td>4.502160</td>\n",
       "      <td>0.0443</td>\n",
       "    </tr>\n",
       "    <tr>\n",
       "      <th>4</th>\n",
       "      <td>305</td>\n",
       "      <td>Most Dangerous Vehicles</td>\n",
       "      <td>3.462426</td>\n",
       "      <td>10.655563</td>\n",
       "      <td>59.377358</td>\n",
       "      <td>133.835045</td>\n",
       "      <td>44.611682</td>\n",
       "      <td>0.000074</td>\n",
       "      <td>0.000044</td>\n",
       "      <td>0.757663</td>\n",
       "      <td>1.322016</td>\n",
       "      <td>0.0009</td>\n",
       "    </tr>\n",
       "  </tbody>\n",
       "</table>\n",
       "</div>"
      ],
      "text/plain": [
       "   QueryNo                           Query    avgidf       scsq    maxscqt  \\\n",
       "0      301   International Organized Crime  3.865480  11.012275  58.712459   \n",
       "1      302    Poliomyelitis and Post-Polio  7.789520  14.367864  60.987195   \n",
       "2      303   Hubble Telescope Achievements  7.291412  14.377756  76.548731   \n",
       "3      304    Endangered Species (Mammals)  5.753165  12.468759  71.097211   \n",
       "4      305         Most Dangerous Vehicles  3.462426  10.655563  59.377358   \n",
       "\n",
       "      sumscqt    avgscqt    maxvar    avgvar    avgpmi    maxpmi     MAP  \n",
       "0  148.612201  49.537400  0.000095  0.000068  1.257175  2.597584  0.0407  \n",
       "1  104.422481  34.807494  0.000684  0.000245  0.023081  0.023081  0.5243  \n",
       "2  212.331965  70.777322  0.004141  0.002545  3.345009  7.779006  0.3654  \n",
       "3  199.034946  66.344982  0.000171  0.000114  4.416756  4.502160  0.0443  \n",
       "4  133.835045  44.611682  0.000074  0.000044  0.757663  1.322016  0.0009  "
      ]
     },
     "execution_count": 15,
     "metadata": {},
     "output_type": "execute_result"
    }
   ],
   "source": [
    "df3=pd.merge(df2,dfmap,on='QueryNo')\n",
    "df3.head()"
   ]
  },
  {
   "cell_type": "code",
   "execution_count": 18,
   "metadata": {},
   "outputs": [
    {
     "name": "stdout",
     "output_type": "stream",
     "text": [
      "           avgidf      scsq   avgscqt   maxscqt   sumscqt    avgvar    maxvar  \\\n",
      "avgidf   1.000000  0.949072  0.489866  0.134825 -0.073012  0.403734  0.317406   \n",
      "scsq     0.949072  1.000000  0.533564  0.034479 -0.156463  0.366829  0.268384   \n",
      "avgscqt  0.489866  0.533564  1.000000  0.551896  0.322898  0.371758  0.278420   \n",
      "maxscqt  0.134825  0.034479  0.551896  1.000000  0.392484  0.279730  0.290152   \n",
      "sumscqt -0.073012 -0.156463  0.322898  0.392484  1.000000 -0.076149  0.014755   \n",
      "avgvar   0.403734  0.366829  0.371758  0.279730 -0.076149  1.000000  0.947240   \n",
      "maxvar   0.317406  0.268384  0.278420  0.290152  0.014755  0.947240  1.000000   \n",
      "avgpmi   0.323793  0.201907  0.412914  0.326477  0.323746  0.145976  0.164440   \n",
      "maxpmi   0.204386  0.049933  0.300969  0.397381  0.573765  0.106196  0.158771   \n",
      "MAP      0.109437  0.071077  0.045031  0.197585 -0.093998  0.194956  0.190089   \n",
      "\n",
      "           avgpmi    maxpmi       MAP  \n",
      "avgidf   0.323793  0.204386  0.109437  \n",
      "scsq     0.201907  0.049933  0.071077  \n",
      "avgscqt  0.412914  0.300969  0.045031  \n",
      "maxscqt  0.326477  0.397381  0.197585  \n",
      "sumscqt  0.323746  0.573765 -0.093998  \n",
      "avgvar   0.145976  0.106196  0.194956  \n",
      "maxvar   0.164440  0.158771  0.190089  \n",
      "avgpmi   1.000000  0.856818  0.049441  \n",
      "maxpmi   0.856818  1.000000  0.050028  \n",
      "MAP      0.049441  0.050028  1.000000  \n"
     ]
    },
    {
     "data": {
      "image/png": "[encoded data removed]",
      "text/plain": [
       "<matplotlib.figure.Figure at 0x1b368d9b0>"
      ]
     },
     "metadata": {},
     "output_type": "display_data"
    }
   ],
   "source": [
    "# Plotting correlation matrix \n",
    "import matplotlib.pyplot as plt\n",
    "import seaborn as sns\n",
    "corr = df3[['avgidf','scsq','avgscqt','maxscqt','sumscqt','avgvar','maxvar','avgpmi','maxpmi','MAP']].corr()\n",
    "print(corr)\n",
    "plt.rc('figure', figsize=(10,8))\n",
    "sns.heatmap(corr, \n",
    "           xticklabels=corr.columns.values,\n",
    "           yticklabels=corr.columns.values, cmap='bwr_r', vmin=-1, vmax=1, annot=True)\n",
    "plt.title('Heatmap of Correlation Matrix')\n",
    "plt.show()"
   ]
  },
  {
   "cell_type": "code",
   "execution_count": 19,
   "metadata": {},
   "outputs": [
    {
     "name": "stdout",
     "output_type": "stream",
     "text": [
      "Corr avgIDF and MAP :  0.109436816157\n",
      "Corr SCS(Q) and MAP :  0.0710765950405\n",
      "Corr MaxSCQ and MAP :  0.197585334558\n",
      "Corr maxVAR and MAP :  0.190088725948\n",
      "Corr avgPMI and MAP :  0.0494407037784\n",
      "Corr avgIDF and SCS(Q) :  0.949072364034\n"
     ]
    }
   ],
   "source": [
    "#Printing Correlation of Pre-retrieval metrices with MAP\n",
    "print(\"Corr avgIDF and MAP : \", numpy.corrcoef(df2['avgidf'], dfmap['MAP'])[0, 1])\n",
    "print(\"Corr SCS(Q) and MAP : \",numpy.corrcoef(df2['scsq'], dfmap['MAP'])[0, 1])\n",
    "print(\"Corr MaxSCQ and MAP : \",numpy.corrcoef(df2['maxscqt'], dfmap['MAP'])[0, 1])\n",
    "print(\"Corr maxVAR and MAP : \",numpy.corrcoef(df2['maxvar'], dfmap['MAP'])[0, 1])\n",
    "print(\"Corr avgPMI and MAP : \",numpy.corrcoef(df2['avgpmi'], dfmap['MAP'])[0, 1])\n",
    "print(\"Corr avgIDF and SCS(Q) : \",numpy.corrcoef(df2['avgidf'], df2['scsq'])[0, 1])"
   ]
  },
  {
   "cell_type": "markdown",
   "metadata": {
    "collapsed": true
   },
   "source": [
    "### References:\n",
    "https://github.com/bonzanini/nlp-tutorial/blob/master/notebooks/01%20recipes_exploratory_analysis.ipynb\n",
    "\n",
    "https://www.kaggle.com/jeffd23/visualizing-word-vectors-with-t-sne\n",
    "\n",
    "https://medium.freecodecamp.org/how-to-process-textual-data-using-tf-idf-in-python-cd2bbc0a94a3\n",
    "\n",
    "http://blog.christianperone.com/2011/10/machine-learning-text-feature-extraction-tf-idf-part-ii/\n",
    "\n",
    "https://gist.github.com/amontalenti/7975313"
   ]
  }
 ],
 "metadata": {
  "kernelspec": {
   "display_name": "Python 3",
   "language": "python",
   "name": "python3"
  },
  "language_info": {
   "codemirror_mode": {
    "name": "ipython",
    "version": 3
   },
   "file_extension": ".py",
   "mimetype": "text/x-python",
   "name": "python",
   "nbconvert_exporter": "python",
   "pygments_lexer": "ipython3",
   "version": "3.6.3"
  }
 },
 "nbformat": 4,
 "nbformat_minor": 2
}
